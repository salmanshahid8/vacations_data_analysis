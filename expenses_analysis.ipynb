{
 "cells": [
  {
   "cell_type": "markdown",
   "metadata": {},
   "source": [
    "Importing libraries"
   ]
  },
  {
   "cell_type": "code",
   "execution_count": 18,
   "metadata": {},
   "outputs": [],
   "source": [
    "import os\n",
    "import warnings\n",
    "\n",
    "import numpy as np\n",
    "import pandas as pd\n",
    "import matplotlib.pyplot as plt\n",
    "\n",
    "warnings.filterwarnings(\"ignore\")"
   ]
  },
  {
   "cell_type": "markdown",
   "metadata": {},
   "source": [
    "Checking the current working directory and list of files"
   ]
  },
  {
   "cell_type": "code",
   "execution_count": 19,
   "metadata": {},
   "outputs": [
    {
     "data": {
      "text/plain": [
       "('d:\\\\projects\\\\misc\\\\vacations_data_analysis',\n",
       " ['.git',\n",
       "  '.gitignore',\n",
       "  'data',\n",
       "  'expenses_analysis.ipynb',\n",
       "  'LICENSE',\n",
       "  'README.md'])"
      ]
     },
     "execution_count": 19,
     "metadata": {},
     "output_type": "execute_result"
    }
   ],
   "source": [
    "os.getcwd() , os.listdir(os.getcwd())"
   ]
  },
  {
   "cell_type": "markdown",
   "metadata": {},
   "source": [
    "reading the data file"
   ]
  },
  {
   "cell_type": "code",
   "execution_count": 20,
   "metadata": {},
   "outputs": [
    {
     "data": {
      "text/html": [
       "<div>\n",
       "<style scoped>\n",
       "    .dataframe tbody tr th:only-of-type {\n",
       "        vertical-align: middle;\n",
       "    }\n",
       "\n",
       "    .dataframe tbody tr th {\n",
       "        vertical-align: top;\n",
       "    }\n",
       "\n",
       "    .dataframe thead th {\n",
       "        text-align: right;\n",
       "    }\n",
       "</style>\n",
       "<table border=\"1\" class=\"dataframe\">\n",
       "  <thead>\n",
       "    <tr style=\"text-align: right;\">\n",
       "      <th></th>\n",
       "      <th>date</th>\n",
       "      <th>description</th>\n",
       "      <th>amount</th>\n",
       "      <th>category</th>\n",
       "      <th>payee</th>\n",
       "    </tr>\n",
       "  </thead>\n",
       "  <tbody>\n",
       "    <tr>\n",
       "      <th>0</th>\n",
       "      <td>2024-08-02</td>\n",
       "      <td>misc. Decathlon</td>\n",
       "      <td>87.3</td>\n",
       "      <td>misc</td>\n",
       "      <td>NaN</td>\n",
       "    </tr>\n",
       "    <tr>\n",
       "      <th>1</th>\n",
       "      <td>2024-08-03</td>\n",
       "      <td>Grenoble to valence</td>\n",
       "      <td>22.6</td>\n",
       "      <td>travel</td>\n",
       "      <td>NaN</td>\n",
       "    </tr>\n",
       "    <tr>\n",
       "      <th>2</th>\n",
       "      <td>NaT</td>\n",
       "      <td>2theloo valence</td>\n",
       "      <td>2.0</td>\n",
       "      <td>misc</td>\n",
       "      <td>Bushra</td>\n",
       "    </tr>\n",
       "    <tr>\n",
       "      <th>3</th>\n",
       "      <td>NaT</td>\n",
       "      <td>Paul valence</td>\n",
       "      <td>4.3</td>\n",
       "      <td>food</td>\n",
       "      <td>NaN</td>\n",
       "    </tr>\n",
       "    <tr>\n",
       "      <th>4</th>\n",
       "      <td>NaT</td>\n",
       "      <td>valence to Narbonne</td>\n",
       "      <td>125.0</td>\n",
       "      <td>travel</td>\n",
       "      <td>NaN</td>\n",
       "    </tr>\n",
       "  </tbody>\n",
       "</table>\n",
       "</div>"
      ],
      "text/plain": [
       "        date          description  amount category   payee\n",
       "0 2024-08-02      misc. Decathlon    87.3     misc     NaN\n",
       "1 2024-08-03  Grenoble to valence    22.6   travel     NaN\n",
       "2        NaT      2theloo valence     2.0     misc  Bushra\n",
       "3        NaT         Paul valence     4.3     food     NaN\n",
       "4        NaT  valence to Narbonne   125.0   travel     NaN"
      ]
     },
     "execution_count": 20,
     "metadata": {},
     "output_type": "execute_result"
    }
   ],
   "source": [
    "data_file = \"data/vacances.xlsx\"\n",
    "\n",
    "df = pd.read_excel(data_file,\n",
    "                   header=0,\n",
    "                   decimal=\",\")\n",
    "\n",
    "df.head()"
   ]
  },
  {
   "cell_type": "markdown",
   "metadata": {},
   "source": [
    "padding the values in `date` column"
   ]
  },
  {
   "cell_type": "code",
   "execution_count": 21,
   "metadata": {},
   "outputs": [
    {
     "data": {
      "text/html": [
       "<div>\n",
       "<style scoped>\n",
       "    .dataframe tbody tr th:only-of-type {\n",
       "        vertical-align: middle;\n",
       "    }\n",
       "\n",
       "    .dataframe tbody tr th {\n",
       "        vertical-align: top;\n",
       "    }\n",
       "\n",
       "    .dataframe thead th {\n",
       "        text-align: right;\n",
       "    }\n",
       "</style>\n",
       "<table border=\"1\" class=\"dataframe\">\n",
       "  <thead>\n",
       "    <tr style=\"text-align: right;\">\n",
       "      <th></th>\n",
       "      <th>date</th>\n",
       "      <th>description</th>\n",
       "      <th>amount</th>\n",
       "      <th>category</th>\n",
       "      <th>payee</th>\n",
       "    </tr>\n",
       "  </thead>\n",
       "  <tbody>\n",
       "    <tr>\n",
       "      <th>0</th>\n",
       "      <td>2024-08-02</td>\n",
       "      <td>misc. Decathlon</td>\n",
       "      <td>87.3</td>\n",
       "      <td>misc</td>\n",
       "      <td>NaN</td>\n",
       "    </tr>\n",
       "    <tr>\n",
       "      <th>1</th>\n",
       "      <td>2024-08-03</td>\n",
       "      <td>Grenoble to valence</td>\n",
       "      <td>22.6</td>\n",
       "      <td>travel</td>\n",
       "      <td>NaN</td>\n",
       "    </tr>\n",
       "    <tr>\n",
       "      <th>2</th>\n",
       "      <td>2024-08-03</td>\n",
       "      <td>2theloo valence</td>\n",
       "      <td>2.0</td>\n",
       "      <td>misc</td>\n",
       "      <td>Bushra</td>\n",
       "    </tr>\n",
       "    <tr>\n",
       "      <th>3</th>\n",
       "      <td>2024-08-03</td>\n",
       "      <td>Paul valence</td>\n",
       "      <td>4.3</td>\n",
       "      <td>food</td>\n",
       "      <td>NaN</td>\n",
       "    </tr>\n",
       "    <tr>\n",
       "      <th>4</th>\n",
       "      <td>2024-08-03</td>\n",
       "      <td>valence to Narbonne</td>\n",
       "      <td>125.0</td>\n",
       "      <td>travel</td>\n",
       "      <td>NaN</td>\n",
       "    </tr>\n",
       "  </tbody>\n",
       "</table>\n",
       "</div>"
      ],
      "text/plain": [
       "        date          description  amount category   payee\n",
       "0 2024-08-02      misc. Decathlon    87.3     misc     NaN\n",
       "1 2024-08-03  Grenoble to valence    22.6   travel     NaN\n",
       "2 2024-08-03      2theloo valence     2.0     misc  Bushra\n",
       "3 2024-08-03         Paul valence     4.3     food     NaN\n",
       "4 2024-08-03  valence to Narbonne   125.0   travel     NaN"
      ]
     },
     "execution_count": 21,
     "metadata": {},
     "output_type": "execute_result"
    }
   ],
   "source": [
    "df[\"date\"] = df[\"date\"].interpolate(method=\"pad\")\n",
    "\n",
    "df.head()"
   ]
  },
  {
   "cell_type": "markdown",
   "metadata": {},
   "source": [
    "filling the missing values in `payee` column"
   ]
  },
  {
   "cell_type": "code",
   "execution_count": 22,
   "metadata": {},
   "outputs": [
    {
     "data": {
      "text/html": [
       "<div>\n",
       "<style scoped>\n",
       "    .dataframe tbody tr th:only-of-type {\n",
       "        vertical-align: middle;\n",
       "    }\n",
       "\n",
       "    .dataframe tbody tr th {\n",
       "        vertical-align: top;\n",
       "    }\n",
       "\n",
       "    .dataframe thead th {\n",
       "        text-align: right;\n",
       "    }\n",
       "</style>\n",
       "<table border=\"1\" class=\"dataframe\">\n",
       "  <thead>\n",
       "    <tr style=\"text-align: right;\">\n",
       "      <th></th>\n",
       "      <th>date</th>\n",
       "      <th>description</th>\n",
       "      <th>amount</th>\n",
       "      <th>category</th>\n",
       "      <th>payee</th>\n",
       "    </tr>\n",
       "  </thead>\n",
       "  <tbody>\n",
       "    <tr>\n",
       "      <th>0</th>\n",
       "      <td>2024-08-02</td>\n",
       "      <td>misc. Decathlon</td>\n",
       "      <td>87.3</td>\n",
       "      <td>misc</td>\n",
       "      <td>Salman</td>\n",
       "    </tr>\n",
       "    <tr>\n",
       "      <th>1</th>\n",
       "      <td>2024-08-03</td>\n",
       "      <td>Grenoble to valence</td>\n",
       "      <td>22.6</td>\n",
       "      <td>travel</td>\n",
       "      <td>Salman</td>\n",
       "    </tr>\n",
       "    <tr>\n",
       "      <th>2</th>\n",
       "      <td>2024-08-03</td>\n",
       "      <td>2theloo valence</td>\n",
       "      <td>2.0</td>\n",
       "      <td>misc</td>\n",
       "      <td>Bushra</td>\n",
       "    </tr>\n",
       "    <tr>\n",
       "      <th>3</th>\n",
       "      <td>2024-08-03</td>\n",
       "      <td>Paul valence</td>\n",
       "      <td>4.3</td>\n",
       "      <td>food</td>\n",
       "      <td>Salman</td>\n",
       "    </tr>\n",
       "    <tr>\n",
       "      <th>4</th>\n",
       "      <td>2024-08-03</td>\n",
       "      <td>valence to Narbonne</td>\n",
       "      <td>125.0</td>\n",
       "      <td>travel</td>\n",
       "      <td>Salman</td>\n",
       "    </tr>\n",
       "  </tbody>\n",
       "</table>\n",
       "</div>"
      ],
      "text/plain": [
       "        date          description  amount category   payee\n",
       "0 2024-08-02      misc. Decathlon    87.3     misc  Salman\n",
       "1 2024-08-03  Grenoble to valence    22.6   travel  Salman\n",
       "2 2024-08-03      2theloo valence     2.0     misc  Bushra\n",
       "3 2024-08-03         Paul valence     4.3     food  Salman\n",
       "4 2024-08-03  valence to Narbonne   125.0   travel  Salman"
      ]
     },
     "execution_count": 22,
     "metadata": {},
     "output_type": "execute_result"
    }
   ],
   "source": [
    "df[\"payee\"] = df[\"payee\"].fillna(\"Salman\")\n",
    "\n",
    "df.head()"
   ]
  },
  {
   "cell_type": "markdown",
   "metadata": {},
   "source": []
  }
 ],
 "metadata": {
  "kernelspec": {
   "display_name": "mhi",
   "language": "python",
   "name": "python3"
  },
  "language_info": {
   "codemirror_mode": {
    "name": "ipython",
    "version": 3
   },
   "file_extension": ".py",
   "mimetype": "text/x-python",
   "name": "python",
   "nbconvert_exporter": "python",
   "pygments_lexer": "ipython3",
   "version": "3.12.0"
  }
 },
 "nbformat": 4,
 "nbformat_minor": 2
}
