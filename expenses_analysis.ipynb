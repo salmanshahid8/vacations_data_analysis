{
 "cells": [
  {
   "cell_type": "markdown",
   "metadata": {},
   "source": [
    "Importing libraries"
   ]
  },
  {
   "cell_type": "code",
   "execution_count": 1,
   "metadata": {},
   "outputs": [],
   "source": [
    "import os\n",
    "import warnings\n",
    "\n",
    "import pandas as pd\n",
    "import matplotlib.pyplot as plt\n",
    "\n",
    "warnings.filterwarnings(\"ignore\")"
   ]
  },
  {
   "cell_type": "markdown",
   "metadata": {},
   "source": [
    "Checking the current working directory and list of files"
   ]
  },
  {
   "cell_type": "code",
   "execution_count": 2,
   "metadata": {},
   "outputs": [
    {
     "data": {
      "text/plain": [
       "('d:\\\\projects\\\\misc\\\\vacations_data_analysis',\n",
       " ['.git',\n",
       "  '.gitignore',\n",
       "  'data',\n",
       "  'expenses_analysis.ipynb',\n",
       "  'LICENSE',\n",
       "  'README.md'],\n",
       " ['vacances.xlsx'])"
      ]
     },
     "execution_count": 2,
     "metadata": {},
     "output_type": "execute_result"
    }
   ],
   "source": [
    "os.getcwd() , os.listdir(os.getcwd()), os.listdir(f\"{os.getcwd()}/data\")"
   ]
  },
  {
   "cell_type": "markdown",
   "metadata": {},
   "source": [
    "reading the data file"
   ]
  },
  {
   "cell_type": "code",
   "execution_count": 3,
   "metadata": {},
   "outputs": [
    {
     "data": {
      "text/html": [
       "<div>\n",
       "<style scoped>\n",
       "    .dataframe tbody tr th:only-of-type {\n",
       "        vertical-align: middle;\n",
       "    }\n",
       "\n",
       "    .dataframe tbody tr th {\n",
       "        vertical-align: top;\n",
       "    }\n",
       "\n",
       "    .dataframe thead th {\n",
       "        text-align: right;\n",
       "    }\n",
       "</style>\n",
       "<table border=\"1\" class=\"dataframe\">\n",
       "  <thead>\n",
       "    <tr style=\"text-align: right;\">\n",
       "      <th></th>\n",
       "      <th>date</th>\n",
       "      <th>description</th>\n",
       "      <th>amount</th>\n",
       "      <th>category</th>\n",
       "      <th>payee</th>\n",
       "    </tr>\n",
       "  </thead>\n",
       "  <tbody>\n",
       "    <tr>\n",
       "      <th>0</th>\n",
       "      <td>2024-08-02</td>\n",
       "      <td>misc. Decathlon</td>\n",
       "      <td>87.3</td>\n",
       "      <td>misc</td>\n",
       "      <td>NaN</td>\n",
       "    </tr>\n",
       "    <tr>\n",
       "      <th>1</th>\n",
       "      <td>2024-08-03</td>\n",
       "      <td>Grenoble to valence</td>\n",
       "      <td>22.6</td>\n",
       "      <td>travel</td>\n",
       "      <td>NaN</td>\n",
       "    </tr>\n",
       "    <tr>\n",
       "      <th>2</th>\n",
       "      <td>NaT</td>\n",
       "      <td>2theloo valence</td>\n",
       "      <td>2.0</td>\n",
       "      <td>misc</td>\n",
       "      <td>Bushra</td>\n",
       "    </tr>\n",
       "    <tr>\n",
       "      <th>3</th>\n",
       "      <td>NaT</td>\n",
       "      <td>Paul valence</td>\n",
       "      <td>4.3</td>\n",
       "      <td>food</td>\n",
       "      <td>NaN</td>\n",
       "    </tr>\n",
       "    <tr>\n",
       "      <th>4</th>\n",
       "      <td>NaT</td>\n",
       "      <td>valence to Narbonne</td>\n",
       "      <td>125.0</td>\n",
       "      <td>travel</td>\n",
       "      <td>NaN</td>\n",
       "    </tr>\n",
       "  </tbody>\n",
       "</table>\n",
       "</div>"
      ],
      "text/plain": [
       "        date          description  amount category   payee\n",
       "0 2024-08-02      misc. Decathlon    87.3     misc     NaN\n",
       "1 2024-08-03  Grenoble to valence    22.6   travel     NaN\n",
       "2        NaT      2theloo valence     2.0     misc  Bushra\n",
       "3        NaT         Paul valence     4.3     food     NaN\n",
       "4        NaT  valence to Narbonne   125.0   travel     NaN"
      ]
     },
     "execution_count": 3,
     "metadata": {},
     "output_type": "execute_result"
    }
   ],
   "source": [
    "data_file = \"data/vacances.xlsx\"\n",
    "\n",
    "df = pd.read_excel(data_file,\n",
    "                   header=0,\n",
    "                   decimal=\",\")\n",
    "\n",
    "df.head()"
   ]
  },
  {
   "cell_type": "markdown",
   "metadata": {},
   "source": [
    "padding the values in `date` column"
   ]
  },
  {
   "cell_type": "code",
   "execution_count": 4,
   "metadata": {},
   "outputs": [
    {
     "data": {
      "text/html": [
       "<div>\n",
       "<style scoped>\n",
       "    .dataframe tbody tr th:only-of-type {\n",
       "        vertical-align: middle;\n",
       "    }\n",
       "\n",
       "    .dataframe tbody tr th {\n",
       "        vertical-align: top;\n",
       "    }\n",
       "\n",
       "    .dataframe thead th {\n",
       "        text-align: right;\n",
       "    }\n",
       "</style>\n",
       "<table border=\"1\" class=\"dataframe\">\n",
       "  <thead>\n",
       "    <tr style=\"text-align: right;\">\n",
       "      <th></th>\n",
       "      <th>date</th>\n",
       "      <th>description</th>\n",
       "      <th>amount</th>\n",
       "      <th>category</th>\n",
       "      <th>payee</th>\n",
       "    </tr>\n",
       "  </thead>\n",
       "  <tbody>\n",
       "    <tr>\n",
       "      <th>0</th>\n",
       "      <td>2024-08-02</td>\n",
       "      <td>misc. Decathlon</td>\n",
       "      <td>87.3</td>\n",
       "      <td>misc</td>\n",
       "      <td>NaN</td>\n",
       "    </tr>\n",
       "    <tr>\n",
       "      <th>1</th>\n",
       "      <td>2024-08-03</td>\n",
       "      <td>Grenoble to valence</td>\n",
       "      <td>22.6</td>\n",
       "      <td>travel</td>\n",
       "      <td>NaN</td>\n",
       "    </tr>\n",
       "    <tr>\n",
       "      <th>2</th>\n",
       "      <td>2024-08-03</td>\n",
       "      <td>2theloo valence</td>\n",
       "      <td>2.0</td>\n",
       "      <td>misc</td>\n",
       "      <td>Bushra</td>\n",
       "    </tr>\n",
       "    <tr>\n",
       "      <th>3</th>\n",
       "      <td>2024-08-03</td>\n",
       "      <td>Paul valence</td>\n",
       "      <td>4.3</td>\n",
       "      <td>food</td>\n",
       "      <td>NaN</td>\n",
       "    </tr>\n",
       "    <tr>\n",
       "      <th>4</th>\n",
       "      <td>2024-08-03</td>\n",
       "      <td>valence to Narbonne</td>\n",
       "      <td>125.0</td>\n",
       "      <td>travel</td>\n",
       "      <td>NaN</td>\n",
       "    </tr>\n",
       "  </tbody>\n",
       "</table>\n",
       "</div>"
      ],
      "text/plain": [
       "        date          description  amount category   payee\n",
       "0 2024-08-02      misc. Decathlon    87.3     misc     NaN\n",
       "1 2024-08-03  Grenoble to valence    22.6   travel     NaN\n",
       "2 2024-08-03      2theloo valence     2.0     misc  Bushra\n",
       "3 2024-08-03         Paul valence     4.3     food     NaN\n",
       "4 2024-08-03  valence to Narbonne   125.0   travel     NaN"
      ]
     },
     "execution_count": 4,
     "metadata": {},
     "output_type": "execute_result"
    }
   ],
   "source": [
    "df[\"date\"] = df[\"date\"].interpolate(method=\"pad\")\n",
    "\n",
    "df.head()"
   ]
  },
  {
   "cell_type": "markdown",
   "metadata": {},
   "source": [
    "filling the missing values in `payee` column"
   ]
  },
  {
   "cell_type": "code",
   "execution_count": 5,
   "metadata": {},
   "outputs": [
    {
     "data": {
      "text/html": [
       "<div>\n",
       "<style scoped>\n",
       "    .dataframe tbody tr th:only-of-type {\n",
       "        vertical-align: middle;\n",
       "    }\n",
       "\n",
       "    .dataframe tbody tr th {\n",
       "        vertical-align: top;\n",
       "    }\n",
       "\n",
       "    .dataframe thead th {\n",
       "        text-align: right;\n",
       "    }\n",
       "</style>\n",
       "<table border=\"1\" class=\"dataframe\">\n",
       "  <thead>\n",
       "    <tr style=\"text-align: right;\">\n",
       "      <th></th>\n",
       "      <th>date</th>\n",
       "      <th>description</th>\n",
       "      <th>amount</th>\n",
       "      <th>category</th>\n",
       "      <th>payee</th>\n",
       "    </tr>\n",
       "  </thead>\n",
       "  <tbody>\n",
       "    <tr>\n",
       "      <th>0</th>\n",
       "      <td>2024-08-02</td>\n",
       "      <td>misc. Decathlon</td>\n",
       "      <td>87.3</td>\n",
       "      <td>misc</td>\n",
       "      <td>Salman</td>\n",
       "    </tr>\n",
       "    <tr>\n",
       "      <th>1</th>\n",
       "      <td>2024-08-03</td>\n",
       "      <td>Grenoble to valence</td>\n",
       "      <td>22.6</td>\n",
       "      <td>travel</td>\n",
       "      <td>Salman</td>\n",
       "    </tr>\n",
       "    <tr>\n",
       "      <th>2</th>\n",
       "      <td>2024-08-03</td>\n",
       "      <td>2theloo valence</td>\n",
       "      <td>2.0</td>\n",
       "      <td>misc</td>\n",
       "      <td>Bushra</td>\n",
       "    </tr>\n",
       "    <tr>\n",
       "      <th>3</th>\n",
       "      <td>2024-08-03</td>\n",
       "      <td>Paul valence</td>\n",
       "      <td>4.3</td>\n",
       "      <td>food</td>\n",
       "      <td>Salman</td>\n",
       "    </tr>\n",
       "    <tr>\n",
       "      <th>4</th>\n",
       "      <td>2024-08-03</td>\n",
       "      <td>valence to Narbonne</td>\n",
       "      <td>125.0</td>\n",
       "      <td>travel</td>\n",
       "      <td>Salman</td>\n",
       "    </tr>\n",
       "  </tbody>\n",
       "</table>\n",
       "</div>"
      ],
      "text/plain": [
       "        date          description  amount category   payee\n",
       "0 2024-08-02      misc. Decathlon    87.3     misc  Salman\n",
       "1 2024-08-03  Grenoble to valence    22.6   travel  Salman\n",
       "2 2024-08-03      2theloo valence     2.0     misc  Bushra\n",
       "3 2024-08-03         Paul valence     4.3     food  Salman\n",
       "4 2024-08-03  valence to Narbonne   125.0   travel  Salman"
      ]
     },
     "execution_count": 5,
     "metadata": {},
     "output_type": "execute_result"
    }
   ],
   "source": [
    "df[\"payee\"] = df[\"payee\"].fillna(\"Salman\")\n",
    "\n",
    "df.head()"
   ]
  },
  {
   "cell_type": "markdown",
   "metadata": {},
   "source": [
    "Analysis 1 : Expenses per date"
   ]
  },
  {
   "cell_type": "code",
   "execution_count": 6,
   "metadata": {},
   "outputs": [
    {
     "data": {
      "text/html": [
       "<div>\n",
       "<style scoped>\n",
       "    .dataframe tbody tr th:only-of-type {\n",
       "        vertical-align: middle;\n",
       "    }\n",
       "\n",
       "    .dataframe tbody tr th {\n",
       "        vertical-align: top;\n",
       "    }\n",
       "\n",
       "    .dataframe thead th {\n",
       "        text-align: right;\n",
       "    }\n",
       "</style>\n",
       "<table border=\"1\" class=\"dataframe\">\n",
       "  <thead>\n",
       "    <tr style=\"text-align: right;\">\n",
       "      <th></th>\n",
       "      <th>amount</th>\n",
       "    </tr>\n",
       "    <tr>\n",
       "      <th>date</th>\n",
       "      <th></th>\n",
       "    </tr>\n",
       "  </thead>\n",
       "  <tbody>\n",
       "    <tr>\n",
       "      <th>2024-08-02</th>\n",
       "      <td>87.30</td>\n",
       "    </tr>\n",
       "    <tr>\n",
       "      <th>2024-08-03</th>\n",
       "      <td>642.02</td>\n",
       "    </tr>\n",
       "    <tr>\n",
       "      <th>2024-08-04</th>\n",
       "      <td>29.70</td>\n",
       "    </tr>\n",
       "    <tr>\n",
       "      <th>2024-08-05</th>\n",
       "      <td>50.46</td>\n",
       "    </tr>\n",
       "    <tr>\n",
       "      <th>2024-08-06</th>\n",
       "      <td>43.45</td>\n",
       "    </tr>\n",
       "    <tr>\n",
       "      <th>2024-08-07</th>\n",
       "      <td>40.70</td>\n",
       "    </tr>\n",
       "    <tr>\n",
       "      <th>2024-08-08</th>\n",
       "      <td>353.95</td>\n",
       "    </tr>\n",
       "    <tr>\n",
       "      <th>2024-08-09</th>\n",
       "      <td>108.15</td>\n",
       "    </tr>\n",
       "    <tr>\n",
       "      <th>2024-08-10</th>\n",
       "      <td>142.52</td>\n",
       "    </tr>\n",
       "  </tbody>\n",
       "</table>\n",
       "</div>"
      ],
      "text/plain": [
       "            amount\n",
       "date              \n",
       "2024-08-02   87.30\n",
       "2024-08-03  642.02\n",
       "2024-08-04   29.70\n",
       "2024-08-05   50.46\n",
       "2024-08-06   43.45\n",
       "2024-08-07   40.70\n",
       "2024-08-08  353.95\n",
       "2024-08-09  108.15\n",
       "2024-08-10  142.52"
      ]
     },
     "execution_count": 6,
     "metadata": {},
     "output_type": "execute_result"
    }
   ],
   "source": [
    "expenses_per_date = df.groupby(\"date\").sum()\n",
    "\n",
    "expenses_per_date = expenses_per_date[[\"amount\"]]\n",
    "\n",
    "expenses_per_date"
   ]
  },
  {
   "cell_type": "code",
   "execution_count": 7,
   "metadata": {},
   "outputs": [
    {
     "data": {
      "image/png": "[encoded data removed]",
      "text/plain": [
       "<Figure size 640x480 with 1 Axes>"
      ]
     },
     "metadata": {},
     "output_type": "display_data"
    }
   ],
   "source": [
    "expenses_per_date.plot(kind=\"bar\")\n",
    "plt.grid()"
   ]
  },
  {
   "cell_type": "markdown",
   "metadata": {},
   "source": [
    "Conclusion : Clearly it is observed that the maximum expenses occurred on 3rd August and 8th August."
   ]
  },
  {
   "cell_type": "markdown",
   "metadata": {},
   "source": [
    "Analysis 2.1 : Expenses per category"
   ]
  },
  {
   "cell_type": "code",
   "execution_count": 8,
   "metadata": {},
   "outputs": [
    {
     "data": {
      "text/html": [
       "<div>\n",
       "<style scoped>\n",
       "    .dataframe tbody tr th:only-of-type {\n",
       "        vertical-align: middle;\n",
       "    }\n",
       "\n",
       "    .dataframe tbody tr th {\n",
       "        vertical-align: top;\n",
       "    }\n",
       "\n",
       "    .dataframe thead th {\n",
       "        text-align: right;\n",
       "    }\n",
       "</style>\n",
       "<table border=\"1\" class=\"dataframe\">\n",
       "  <thead>\n",
       "    <tr style=\"text-align: right;\">\n",
       "      <th></th>\n",
       "      <th>amount</th>\n",
       "    </tr>\n",
       "    <tr>\n",
       "      <th>category</th>\n",
       "      <th></th>\n",
       "    </tr>\n",
       "  </thead>\n",
       "  <tbody>\n",
       "    <tr>\n",
       "      <th>city_tour</th>\n",
       "      <td>57.00</td>\n",
       "    </tr>\n",
       "    <tr>\n",
       "      <th>food</th>\n",
       "      <td>166.03</td>\n",
       "    </tr>\n",
       "    <tr>\n",
       "      <th>ice_cream</th>\n",
       "      <td>67.82</td>\n",
       "    </tr>\n",
       "    <tr>\n",
       "      <th>misc</th>\n",
       "      <td>140.30</td>\n",
       "    </tr>\n",
       "    <tr>\n",
       "      <th>restaurant</th>\n",
       "      <td>74.50</td>\n",
       "    </tr>\n",
       "    <tr>\n",
       "      <th>stay</th>\n",
       "      <td>656.90</td>\n",
       "    </tr>\n",
       "    <tr>\n",
       "      <th>travel</th>\n",
       "      <td>335.70</td>\n",
       "    </tr>\n",
       "  </tbody>\n",
       "</table>\n",
       "</div>"
      ],
      "text/plain": [
       "            amount\n",
       "category          \n",
       "city_tour    57.00\n",
       "food        166.03\n",
       "ice_cream    67.82\n",
       "misc        140.30\n",
       "restaurant   74.50\n",
       "stay        656.90\n",
       "travel      335.70"
      ]
     },
     "execution_count": 8,
     "metadata": {},
     "output_type": "execute_result"
    }
   ],
   "source": [
    "df_without_date = df.drop([\"date\"], axis=1)\n",
    "\n",
    "expenses_per_category = df_without_date.groupby(\"category\").sum()\n",
    "\n",
    "expenses_per_category = expenses_per_category[[\"amount\"]]\n",
    "\n",
    "expenses_per_category"
   ]
  },
  {
   "cell_type": "code",
   "execution_count": 9,
   "metadata": {},
   "outputs": [
    {
     "data": {
      "image/png": "[encoded data removed]",
      "text/plain": [
       "<Figure size 640x480 with 1 Axes>"
      ]
     },
     "metadata": {},
     "output_type": "display_data"
    }
   ],
   "source": [
    "expenses_per_category.plot(kind=\"bar\")\n",
    "plt.grid()"
   ]
  },
  {
   "cell_type": "markdown",
   "metadata": {},
   "source": [
    "Conclusion : Clearly it is observed that the maximum expenses occurred for stay and travel."
   ]
  },
  {
   "cell_type": "markdown",
   "metadata": {},
   "source": [
    "Analysis 2.2 : Average expense per category"
   ]
  },
  {
   "cell_type": "code",
   "execution_count": 10,
   "metadata": {},
   "outputs": [
    {
     "data": {
      "text/html": [
       "<div>\n",
       "<style scoped>\n",
       "    .dataframe tbody tr th:only-of-type {\n",
       "        vertical-align: middle;\n",
       "    }\n",
       "\n",
       "    .dataframe tbody tr th {\n",
       "        vertical-align: top;\n",
       "    }\n",
       "\n",
       "    .dataframe thead th {\n",
       "        text-align: right;\n",
       "    }\n",
       "</style>\n",
       "<table border=\"1\" class=\"dataframe\">\n",
       "  <thead>\n",
       "    <tr style=\"text-align: right;\">\n",
       "      <th></th>\n",
       "      <th>amount</th>\n",
       "      <th>count</th>\n",
       "      <th>average_per_count_per_cat</th>\n",
       "    </tr>\n",
       "    <tr>\n",
       "      <th>category</th>\n",
       "      <th></th>\n",
       "      <th></th>\n",
       "      <th></th>\n",
       "    </tr>\n",
       "  </thead>\n",
       "  <tbody>\n",
       "    <tr>\n",
       "      <th>city_tour</th>\n",
       "      <td>57.00</td>\n",
       "      <td>3</td>\n",
       "      <td>19.000000</td>\n",
       "    </tr>\n",
       "    <tr>\n",
       "      <th>food</th>\n",
       "      <td>166.03</td>\n",
       "      <td>23</td>\n",
       "      <td>7.218696</td>\n",
       "    </tr>\n",
       "    <tr>\n",
       "      <th>ice_cream</th>\n",
       "      <td>67.82</td>\n",
       "      <td>6</td>\n",
       "      <td>11.303333</td>\n",
       "    </tr>\n",
       "    <tr>\n",
       "      <th>misc</th>\n",
       "      <td>140.30</td>\n",
       "      <td>5</td>\n",
       "      <td>28.060000</td>\n",
       "    </tr>\n",
       "    <tr>\n",
       "      <th>restaurant</th>\n",
       "      <td>74.50</td>\n",
       "      <td>2</td>\n",
       "      <td>37.250000</td>\n",
       "    </tr>\n",
       "    <tr>\n",
       "      <th>stay</th>\n",
       "      <td>656.90</td>\n",
       "      <td>2</td>\n",
       "      <td>328.450000</td>\n",
       "    </tr>\n",
       "    <tr>\n",
       "      <th>travel</th>\n",
       "      <td>335.70</td>\n",
       "      <td>5</td>\n",
       "      <td>67.140000</td>\n",
       "    </tr>\n",
       "  </tbody>\n",
       "</table>\n",
       "</div>"
      ],
      "text/plain": [
       "            amount  count  average_per_count_per_cat\n",
       "category                                            \n",
       "city_tour    57.00      3                  19.000000\n",
       "food        166.03     23                   7.218696\n",
       "ice_cream    67.82      6                  11.303333\n",
       "misc        140.30      5                  28.060000\n",
       "restaurant   74.50      2                  37.250000\n",
       "stay        656.90      2                 328.450000\n",
       "travel      335.70      5                  67.140000"
      ]
     },
     "execution_count": 10,
     "metadata": {},
     "output_type": "execute_result"
    }
   ],
   "source": [
    "expenses_per_category[\"count\"] = df_without_date['category'].value_counts()\n",
    "\n",
    "expenses_per_category[\"average_per_count_per_cat\"] = expenses_per_category[\"amount\"] / expenses_per_category[\"count\"]\n",
    "\n",
    "# expenses_per_category = expenses_per_category[[\"average_per_category\"]]\n",
    "\n",
    "expenses_per_category"
   ]
  },
  {
   "cell_type": "markdown",
   "metadata": {},
   "source": [
    "Analysis 2.3 : Expense per person per category"
   ]
  },
  {
   "cell_type": "code",
   "execution_count": 11,
   "metadata": {},
   "outputs": [
    {
     "data": {
      "text/html": [
       "<div>\n",
       "<style scoped>\n",
       "    .dataframe tbody tr th:only-of-type {\n",
       "        vertical-align: middle;\n",
       "    }\n",
       "\n",
       "    .dataframe tbody tr th {\n",
       "        vertical-align: top;\n",
       "    }\n",
       "\n",
       "    .dataframe thead th {\n",
       "        text-align: right;\n",
       "    }\n",
       "</style>\n",
       "<table border=\"1\" class=\"dataframe\">\n",
       "  <thead>\n",
       "    <tr style=\"text-align: right;\">\n",
       "      <th></th>\n",
       "      <th>amount</th>\n",
       "      <th>count</th>\n",
       "      <th>average_per_count_per_cat</th>\n",
       "      <th>average_per_person_per_cat</th>\n",
       "    </tr>\n",
       "    <tr>\n",
       "      <th>category</th>\n",
       "      <th></th>\n",
       "      <th></th>\n",
       "      <th></th>\n",
       "      <th></th>\n",
       "    </tr>\n",
       "  </thead>\n",
       "  <tbody>\n",
       "    <tr>\n",
       "      <th>city_tour</th>\n",
       "      <td>57.00</td>\n",
       "      <td>3</td>\n",
       "      <td>19.000000</td>\n",
       "      <td>14.2500</td>\n",
       "    </tr>\n",
       "    <tr>\n",
       "      <th>food</th>\n",
       "      <td>166.03</td>\n",
       "      <td>23</td>\n",
       "      <td>7.218696</td>\n",
       "      <td>41.5075</td>\n",
       "    </tr>\n",
       "    <tr>\n",
       "      <th>ice_cream</th>\n",
       "      <td>67.82</td>\n",
       "      <td>6</td>\n",
       "      <td>11.303333</td>\n",
       "      <td>16.9550</td>\n",
       "    </tr>\n",
       "    <tr>\n",
       "      <th>misc</th>\n",
       "      <td>140.30</td>\n",
       "      <td>5</td>\n",
       "      <td>28.060000</td>\n",
       "      <td>35.0750</td>\n",
       "    </tr>\n",
       "    <tr>\n",
       "      <th>restaurant</th>\n",
       "      <td>74.50</td>\n",
       "      <td>2</td>\n",
       "      <td>37.250000</td>\n",
       "      <td>18.6250</td>\n",
       "    </tr>\n",
       "    <tr>\n",
       "      <th>stay</th>\n",
       "      <td>656.90</td>\n",
       "      <td>2</td>\n",
       "      <td>328.450000</td>\n",
       "      <td>164.2250</td>\n",
       "    </tr>\n",
       "    <tr>\n",
       "      <th>travel</th>\n",
       "      <td>335.70</td>\n",
       "      <td>5</td>\n",
       "      <td>67.140000</td>\n",
       "      <td>83.9250</td>\n",
       "    </tr>\n",
       "  </tbody>\n",
       "</table>\n",
       "</div>"
      ],
      "text/plain": [
       "            amount  count  average_per_count_per_cat  \\\n",
       "category                                               \n",
       "city_tour    57.00      3                  19.000000   \n",
       "food        166.03     23                   7.218696   \n",
       "ice_cream    67.82      6                  11.303333   \n",
       "misc        140.30      5                  28.060000   \n",
       "restaurant   74.50      2                  37.250000   \n",
       "stay        656.90      2                 328.450000   \n",
       "travel      335.70      5                  67.140000   \n",
       "\n",
       "            average_per_person_per_cat  \n",
       "category                                \n",
       "city_tour                      14.2500  \n",
       "food                           41.5075  \n",
       "ice_cream                      16.9550  \n",
       "misc                           35.0750  \n",
       "restaurant                     18.6250  \n",
       "stay                          164.2250  \n",
       "travel                         83.9250  "
      ]
     },
     "execution_count": 11,
     "metadata": {},
     "output_type": "execute_result"
    }
   ],
   "source": [
    "number_of_tourists = 4\n",
    "\n",
    "expenses_per_category[\"average_per_person_per_cat\"] = expenses_per_category[\"amount\"] / number_of_tourists\n",
    "\n",
    "# expenses_per_category = expenses_per_category[[\"average_per_category\"]]\n",
    "\n",
    "expenses_per_category"
   ]
  },
  {
   "cell_type": "markdown",
   "metadata": {},
   "source": [
    "Analysis 2.3 : Expense per person per day per category"
   ]
  },
  {
   "cell_type": "code",
   "execution_count": 12,
   "metadata": {},
   "outputs": [
    {
     "data": {
      "text/html": [
       "<div>\n",
       "<style scoped>\n",
       "    .dataframe tbody tr th:only-of-type {\n",
       "        vertical-align: middle;\n",
       "    }\n",
       "\n",
       "    .dataframe tbody tr th {\n",
       "        vertical-align: top;\n",
       "    }\n",
       "\n",
       "    .dataframe thead th {\n",
       "        text-align: right;\n",
       "    }\n",
       "</style>\n",
       "<table border=\"1\" class=\"dataframe\">\n",
       "  <thead>\n",
       "    <tr style=\"text-align: right;\">\n",
       "      <th></th>\n",
       "      <th>amount</th>\n",
       "      <th>count</th>\n",
       "      <th>average_per_count_per_cat</th>\n",
       "      <th>average_per_person_per_cat</th>\n",
       "      <th>average_per_person_per_day_per_cat</th>\n",
       "    </tr>\n",
       "    <tr>\n",
       "      <th>category</th>\n",
       "      <th></th>\n",
       "      <th></th>\n",
       "      <th></th>\n",
       "      <th></th>\n",
       "      <th></th>\n",
       "    </tr>\n",
       "  </thead>\n",
       "  <tbody>\n",
       "    <tr>\n",
       "      <th>city_tour</th>\n",
       "      <td>57.00</td>\n",
       "      <td>3</td>\n",
       "      <td>19.000000</td>\n",
       "      <td>14.2500</td>\n",
       "      <td>2.035714</td>\n",
       "    </tr>\n",
       "    <tr>\n",
       "      <th>food</th>\n",
       "      <td>166.03</td>\n",
       "      <td>23</td>\n",
       "      <td>7.218696</td>\n",
       "      <td>41.5075</td>\n",
       "      <td>5.929643</td>\n",
       "    </tr>\n",
       "    <tr>\n",
       "      <th>ice_cream</th>\n",
       "      <td>67.82</td>\n",
       "      <td>6</td>\n",
       "      <td>11.303333</td>\n",
       "      <td>16.9550</td>\n",
       "      <td>2.422143</td>\n",
       "    </tr>\n",
       "    <tr>\n",
       "      <th>misc</th>\n",
       "      <td>140.30</td>\n",
       "      <td>5</td>\n",
       "      <td>28.060000</td>\n",
       "      <td>35.0750</td>\n",
       "      <td>5.010714</td>\n",
       "    </tr>\n",
       "    <tr>\n",
       "      <th>restaurant</th>\n",
       "      <td>74.50</td>\n",
       "      <td>2</td>\n",
       "      <td>37.250000</td>\n",
       "      <td>18.6250</td>\n",
       "      <td>2.660714</td>\n",
       "    </tr>\n",
       "    <tr>\n",
       "      <th>stay</th>\n",
       "      <td>656.90</td>\n",
       "      <td>2</td>\n",
       "      <td>328.450000</td>\n",
       "      <td>164.2250</td>\n",
       "      <td>23.460714</td>\n",
       "    </tr>\n",
       "    <tr>\n",
       "      <th>travel</th>\n",
       "      <td>335.70</td>\n",
       "      <td>5</td>\n",
       "      <td>67.140000</td>\n",
       "      <td>83.9250</td>\n",
       "      <td>11.989286</td>\n",
       "    </tr>\n",
       "  </tbody>\n",
       "</table>\n",
       "</div>"
      ],
      "text/plain": [
       "            amount  count  average_per_count_per_cat  \\\n",
       "category                                               \n",
       "city_tour    57.00      3                  19.000000   \n",
       "food        166.03     23                   7.218696   \n",
       "ice_cream    67.82      6                  11.303333   \n",
       "misc        140.30      5                  28.060000   \n",
       "restaurant   74.50      2                  37.250000   \n",
       "stay        656.90      2                 328.450000   \n",
       "travel      335.70      5                  67.140000   \n",
       "\n",
       "            average_per_person_per_cat  average_per_person_per_day_per_cat  \n",
       "category                                                                    \n",
       "city_tour                      14.2500                            2.035714  \n",
       "food                           41.5075                            5.929643  \n",
       "ice_cream                      16.9550                            2.422143  \n",
       "misc                           35.0750                            5.010714  \n",
       "restaurant                     18.6250                            2.660714  \n",
       "stay                          164.2250                           23.460714  \n",
       "travel                         83.9250                           11.989286  "
      ]
     },
     "execution_count": 12,
     "metadata": {},
     "output_type": "execute_result"
    }
   ],
   "source": [
    "number_of_days = 7\n",
    "\n",
    "expenses_per_category[\"average_per_person_per_day_per_cat\"] = expenses_per_category[\"amount\"] / (number_of_tourists * number_of_days)\n",
    "\n",
    "# expenses_per_category = expenses_per_category[[\"average_per_category\"]]\n",
    "\n",
    "expenses_per_category"
   ]
  },
  {
   "cell_type": "markdown",
   "metadata": {},
   "source": [
    "Analysis 3 : expenses per payee"
   ]
  },
  {
   "cell_type": "code",
   "execution_count": 13,
   "metadata": {},
   "outputs": [
    {
     "data": {
      "image/png": "[encoded data removed]",
      "text/plain": [
       "<Figure size 640x480 with 1 Axes>"
      ]
     },
     "metadata": {},
     "output_type": "display_data"
    }
   ],
   "source": [
    "expenses_per_payee = df_without_date.groupby(\"payee\").sum()\n",
    "\n",
    "expenses_per_payee = expenses_per_payee[[\"amount\"]]\n",
    "\n",
    "expenses_per_payee.plot(kind=\"bar\")\n",
    "plt.grid()"
   ]
  },
  {
   "cell_type": "code",
   "execution_count": 14,
   "metadata": {},
   "outputs": [
    {
     "data": {
      "text/html": [
       "<div>\n",
       "<style scoped>\n",
       "    .dataframe tbody tr th:only-of-type {\n",
       "        vertical-align: middle;\n",
       "    }\n",
       "\n",
       "    .dataframe tbody tr th {\n",
       "        vertical-align: top;\n",
       "    }\n",
       "\n",
       "    .dataframe thead th {\n",
       "        text-align: right;\n",
       "    }\n",
       "</style>\n",
       "<table border=\"1\" class=\"dataframe\">\n",
       "  <thead>\n",
       "    <tr style=\"text-align: right;\">\n",
       "      <th></th>\n",
       "      <th>amount</th>\n",
       "    </tr>\n",
       "    <tr>\n",
       "      <th>payee</th>\n",
       "      <th></th>\n",
       "    </tr>\n",
       "  </thead>\n",
       "  <tbody>\n",
       "    <tr>\n",
       "      <th>Bushra</th>\n",
       "      <td>87.78</td>\n",
       "    </tr>\n",
       "    <tr>\n",
       "      <th>Salman</th>\n",
       "      <td>1410.47</td>\n",
       "    </tr>\n",
       "  </tbody>\n",
       "</table>\n",
       "</div>"
      ],
      "text/plain": [
       "         amount\n",
       "payee          \n",
       "Bushra    87.78\n",
       "Salman  1410.47"
      ]
     },
     "execution_count": 14,
     "metadata": {},
     "output_type": "execute_result"
    }
   ],
   "source": [
    "expenses_per_payee"
   ]
  }
 ],
 "metadata": {
  "kernelspec": {
   "display_name": "mhi",
   "language": "python",
   "name": "python3"
  },
  "language_info": {
   "codemirror_mode": {
    "name": "ipython",
    "version": 3
   },
   "file_extension": ".py",
   "mimetype": "text/x-python",
   "name": "python",
   "nbconvert_exporter": "python",
   "pygments_lexer": "ipython3",
   "version": "3.12.0"
  }
 },
 "nbformat": 4,
 "nbformat_minor": 2
}
